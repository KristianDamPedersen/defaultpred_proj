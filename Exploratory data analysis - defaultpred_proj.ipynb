{
 "cells": [
  {
   "cell_type": "markdown",
   "id": "35dc07f4",
   "metadata": {},
   "source": [
    "# Loan defualt prediction - Exploratory data analysis\n",
    "The purpose of this workbook is to explore the data, in order to get a general idea of the different elements of the data and relationships between different predictors.\n",
    "### Overview of workbook\n",
    "### Data\n",
    "Data obtained from the \"Loan Default Prediction\" dataset. See README for more.\n",
    "\n",
    "### Explanation of the data set\n",
    "### Variables and definitions"
   ]
  },
  {
   "cell_type": "code",
   "execution_count": 54,
   "id": "f14b6643",
   "metadata": {},
   "outputs": [],
   "source": [
    "# Importing different modules and reading in the data\n",
    "import pandas as pd\n",
    "import numpy as np\n",
    "import matplotlib.pyplot as plt\n",
    "import seaborn as sns"
   ]
  },
  {
   "cell_type": "code",
   "execution_count": 55,
   "id": "92e083c3",
   "metadata": {},
   "outputs": [],
   "source": [
    "ldf_data = pd.read_csv('/users/kristiandampedersen/documents/data_science_projects/defaultpred_proj/data/loan_data.csv')"
   ]
  },
  {
   "cell_type": "markdown",
   "id": "862584da",
   "metadata": {},
   "source": [
    "## Quick glance at the data\n",
    "In this section a quick glance of the data will be perfomed, to get a general idea of how its structured. The main takeaway is that the dataset consists of 5 columns, where three are integers and two are float. Its worth mentioning that two of those integers ('Employed' and 'Defaulted?' are dichotomous (1 or 0) variables.\n",
    "Looking at the predictors, it was deemed useful to create another predictor namely 'income_balance_ratio' that measures the ratio of income to bank balance. This was included to see if the tendency to \"save\" larger parts of ones income had a significant effect on the likelihood of defaulting. A deeper explanation of the variable is found in the variable list above. Fr\n",
    "\n",
    "From the quick glance we gather that the dataset contains a high average salary, and that this might be due to two distinct income \"classes\", as seen be the visualisation below. Finally we created a test set to avoid further bias towards \"overfitting\" from my own brain."
   ]
  },
  {
   "cell_type": "markdown",
   "id": "b90d6e4c",
   "metadata": {},
   "source": [
    "#### Basic glance"
   ]
  },
  {
   "cell_type": "markdown",
   "id": "06d99744",
   "metadata": {},
   "source": [
    "Here we see a general overview of how the data is structures"
   ]
  },
  {
   "cell_type": "code",
   "execution_count": 56,
   "id": "a17fc924",
   "metadata": {
    "scrolled": false
   },
   "outputs": [
    {
     "data": {
      "text/html": [
       "<div>\n",
       "<style scoped>\n",
       "    .dataframe tbody tr th:only-of-type {\n",
       "        vertical-align: middle;\n",
       "    }\n",
       "\n",
       "    .dataframe tbody tr th {\n",
       "        vertical-align: top;\n",
       "    }\n",
       "\n",
       "    .dataframe thead th {\n",
       "        text-align: right;\n",
       "    }\n",
       "</style>\n",
       "<table border=\"1\" class=\"dataframe\">\n",
       "  <thead>\n",
       "    <tr style=\"text-align: right;\">\n",
       "      <th></th>\n",
       "      <th>Index</th>\n",
       "      <th>Employed</th>\n",
       "      <th>Bank Balance</th>\n",
       "      <th>Annual Salary</th>\n",
       "      <th>Defaulted?</th>\n",
       "    </tr>\n",
       "  </thead>\n",
       "  <tbody>\n",
       "    <tr>\n",
       "      <th>0</th>\n",
       "      <td>1</td>\n",
       "      <td>1</td>\n",
       "      <td>8754.36</td>\n",
       "      <td>532339.56</td>\n",
       "      <td>0</td>\n",
       "    </tr>\n",
       "    <tr>\n",
       "      <th>1</th>\n",
       "      <td>2</td>\n",
       "      <td>0</td>\n",
       "      <td>9806.16</td>\n",
       "      <td>145273.56</td>\n",
       "      <td>0</td>\n",
       "    </tr>\n",
       "    <tr>\n",
       "      <th>2</th>\n",
       "      <td>3</td>\n",
       "      <td>1</td>\n",
       "      <td>12882.60</td>\n",
       "      <td>381205.68</td>\n",
       "      <td>0</td>\n",
       "    </tr>\n",
       "    <tr>\n",
       "      <th>3</th>\n",
       "      <td>4</td>\n",
       "      <td>1</td>\n",
       "      <td>6351.00</td>\n",
       "      <td>428453.88</td>\n",
       "      <td>0</td>\n",
       "    </tr>\n",
       "    <tr>\n",
       "      <th>4</th>\n",
       "      <td>5</td>\n",
       "      <td>1</td>\n",
       "      <td>9427.92</td>\n",
       "      <td>461562.00</td>\n",
       "      <td>0</td>\n",
       "    </tr>\n",
       "  </tbody>\n",
       "</table>\n",
       "</div>"
      ],
      "text/plain": [
       "   Index  Employed  Bank Balance  Annual Salary  Defaulted?\n",
       "0      1         1       8754.36      532339.56           0\n",
       "1      2         0       9806.16      145273.56           0\n",
       "2      3         1      12882.60      381205.68           0\n",
       "3      4         1       6351.00      428453.88           0\n",
       "4      5         1       9427.92      461562.00           0"
      ]
     },
     "execution_count": 56,
     "metadata": {},
     "output_type": "execute_result"
    }
   ],
   "source": [
    "ldf_data.head()"
   ]
  },
  {
   "cell_type": "code",
   "execution_count": 57,
   "id": "21438437",
   "metadata": {
    "scrolled": false
   },
   "outputs": [
    {
     "name": "stdout",
     "output_type": "stream",
     "text": [
      "<class 'pandas.core.frame.DataFrame'>\n",
      "RangeIndex: 10000 entries, 0 to 9999\n",
      "Data columns (total 5 columns):\n",
      " #   Column         Non-Null Count  Dtype  \n",
      "---  ------         --------------  -----  \n",
      " 0   Index          10000 non-null  int64  \n",
      " 1   Employed       10000 non-null  int64  \n",
      " 2   Bank Balance   10000 non-null  float64\n",
      " 3   Annual Salary  10000 non-null  float64\n",
      " 4   Defaulted?     10000 non-null  int64  \n",
      "dtypes: float64(2), int64(3)\n",
      "memory usage: 390.8 KB\n"
     ]
    }
   ],
   "source": [
    "ldf_data.info()"
   ]
  },
  {
   "cell_type": "raw",
   "id": "2db43acc",
   "metadata": {},
   "source": [
    "From the general structure we gather that the data consists of 5 columns, 3 of which are integers and the others are floats. Furthermore we can gather that the dataset contains no null-values, which makes the data-cleaning process a lot easier."
   ]
  },
  {
   "cell_type": "markdown",
   "id": "736aab7b",
   "metadata": {},
   "source": [
    "#### Creating income_balance_ratio\n",
    "From the above columns we can create a bit more depth by creating a predictor that measures the relationship between annual income and current bank balance. This will in effect indirectly measure how prone to saving a given applicant is, which might be interesting in our analysis and model."
   ]
  },
  {
   "cell_type": "code",
   "execution_count": 92,
   "id": "986a78e1",
   "metadata": {},
   "outputs": [],
   "source": [
    "# Creating income_balance_ratio\n",
    "ldf_ibr_ph = ldf_data['Bank Balance']/ldf_data['Annual Salary']*100\n",
    "ldf_ibr_ph2 = ldf_ibr_ph.round(decimals=2)\n",
    "ldf_data['income_balance_ratio'] = ldf_ibr_ph2\n"
   ]
  },
  {
   "cell_type": "markdown",
   "id": "07fe4421",
   "metadata": {},
   "source": [
    "#### Key indicators"
   ]
  },
  {
   "cell_type": "markdown",
   "id": "e2f681fd",
   "metadata": {},
   "source": [
    "Here we see a general overview of some key indicators"
   ]
  },
  {
   "cell_type": "code",
   "execution_count": 82,
   "id": "e81e6ace",
   "metadata": {
    "scrolled": false
   },
   "outputs": [
    {
     "data": {
      "text/html": [
       "<div>\n",
       "<style scoped>\n",
       "    .dataframe tbody tr th:only-of-type {\n",
       "        vertical-align: middle;\n",
       "    }\n",
       "\n",
       "    .dataframe tbody tr th {\n",
       "        vertical-align: top;\n",
       "    }\n",
       "\n",
       "    .dataframe thead th {\n",
       "        text-align: right;\n",
       "    }\n",
       "</style>\n",
       "<table border=\"1\" class=\"dataframe\">\n",
       "  <thead>\n",
       "    <tr style=\"text-align: right;\">\n",
       "      <th></th>\n",
       "      <th>Index</th>\n",
       "      <th>Employed</th>\n",
       "      <th>Bank Balance</th>\n",
       "      <th>Annual Salary</th>\n",
       "      <th>Defaulted?</th>\n",
       "      <th>income_balance_ratio</th>\n",
       "    </tr>\n",
       "  </thead>\n",
       "  <tbody>\n",
       "    <tr>\n",
       "      <th>count</th>\n",
       "      <td>10000.00</td>\n",
       "      <td>10000.00</td>\n",
       "      <td>10000.00</td>\n",
       "      <td>10000.00</td>\n",
       "      <td>10000.00</td>\n",
       "      <td>10000.00</td>\n",
       "    </tr>\n",
       "    <tr>\n",
       "      <th>mean</th>\n",
       "      <td>5000.50</td>\n",
       "      <td>0.71</td>\n",
       "      <td>10024.50</td>\n",
       "      <td>402203.78</td>\n",
       "      <td>0.03</td>\n",
       "      <td>3.24</td>\n",
       "    </tr>\n",
       "    <tr>\n",
       "      <th>std</th>\n",
       "      <td>2886.90</td>\n",
       "      <td>0.46</td>\n",
       "      <td>5804.58</td>\n",
       "      <td>160039.67</td>\n",
       "      <td>0.18</td>\n",
       "      <td>3.38</td>\n",
       "    </tr>\n",
       "    <tr>\n",
       "      <th>min</th>\n",
       "      <td>1.00</td>\n",
       "      <td>0.00</td>\n",
       "      <td>0.00</td>\n",
       "      <td>9263.64</td>\n",
       "      <td>0.00</td>\n",
       "      <td>0.00</td>\n",
       "    </tr>\n",
       "    <tr>\n",
       "      <th>25%</th>\n",
       "      <td>2500.75</td>\n",
       "      <td>0.00</td>\n",
       "      <td>5780.79</td>\n",
       "      <td>256085.52</td>\n",
       "      <td>0.00</td>\n",
       "      <td>1.32</td>\n",
       "    </tr>\n",
       "    <tr>\n",
       "      <th>50%</th>\n",
       "      <td>5000.50</td>\n",
       "      <td>1.00</td>\n",
       "      <td>9883.62</td>\n",
       "      <td>414631.74</td>\n",
       "      <td>0.00</td>\n",
       "      <td>2.43</td>\n",
       "    </tr>\n",
       "    <tr>\n",
       "      <th>75%</th>\n",
       "      <td>7500.25</td>\n",
       "      <td>1.00</td>\n",
       "      <td>13995.66</td>\n",
       "      <td>525692.76</td>\n",
       "      <td>0.00</td>\n",
       "      <td>4.19</td>\n",
       "    </tr>\n",
       "    <tr>\n",
       "      <th>max</th>\n",
       "      <td>10000.00</td>\n",
       "      <td>1.00</td>\n",
       "      <td>31851.84</td>\n",
       "      <td>882650.76</td>\n",
       "      <td>1.00</td>\n",
       "      <td>164.50</td>\n",
       "    </tr>\n",
       "  </tbody>\n",
       "</table>\n",
       "</div>"
      ],
      "text/plain": [
       "          Index  Employed  Bank Balance  Annual Salary  Defaulted?  \\\n",
       "count  10000.00  10000.00      10000.00       10000.00    10000.00   \n",
       "mean    5000.50      0.71      10024.50      402203.78        0.03   \n",
       "std     2886.90      0.46       5804.58      160039.67        0.18   \n",
       "min        1.00      0.00          0.00        9263.64        0.00   \n",
       "25%     2500.75      0.00       5780.79      256085.52        0.00   \n",
       "50%     5000.50      1.00       9883.62      414631.74        0.00   \n",
       "75%     7500.25      1.00      13995.66      525692.76        0.00   \n",
       "max    10000.00      1.00      31851.84      882650.76        1.00   \n",
       "\n",
       "       income_balance_ratio  \n",
       "count              10000.00  \n",
       "mean                   3.24  \n",
       "std                    3.38  \n",
       "min                    0.00  \n",
       "25%                    1.32  \n",
       "50%                    2.43  \n",
       "75%                    4.19  \n",
       "max                  164.50  "
      ]
     },
     "execution_count": 82,
     "metadata": {},
     "output_type": "execute_result"
    }
   ],
   "source": [
    "ldf_data.describe().round(decimals=2)"
   ]
  },
  {
   "cell_type": "markdown",
   "id": "1381ee72",
   "metadata": {},
   "source": [
    "#### Taking a look at income"
   ]
  },
  {
   "cell_type": "code",
   "execution_count": 62,
   "id": "7e35604e",
   "metadata": {
    "scrolled": true
   },
   "outputs": [
    {
     "name": "stdout",
     "output_type": "stream",
     "text": [
      "From the above we gather that about 70.56% of the applicants are employed.\n",
      "The average bank balance of the applicants is 10024.50, and the average annual salary is 402203.78.\n",
      "The data tells us that about 3.33% defaulted on their loans.\n"
     ]
    }
   ],
   "source": [
    "print('From the above we gather that about {:.2f}% of the applicants are employed.\\nThe average bank balance of the applicants is {:.2f}, and the average annual salary is {:.2f}.\\nThe data tells us that about {:.2f}% defaulted on their loans.'.format(ldf_data['Employed'].mean()*100, ldf_data['Bank Balance'].mean(), ldf_data['Annual Salary'].mean(), ldf_data['Defaulted?'].mean()*100))"
   ]
  },
  {
   "cell_type": "markdown",
   "id": "feb46546",
   "metadata": {},
   "source": [
    "One thing that immediately stands out is the incredibly high average salary. This could be due to a number of factors, but its definetly worth keeping in mind as we look at distributions later. For now we'll just quickly get the maximum and minimum salary."
   ]
  },
  {
   "cell_type": "code",
   "execution_count": 63,
   "id": "57dfc349",
   "metadata": {},
   "outputs": [
    {
     "name": "stdout",
     "output_type": "stream",
     "text": [
      "A quick reality check on salaries, the minimum annual salary in the data set is 9263.64 whilst the maximum is 882650.76, this is equal to a difference of 873387.120.\n"
     ]
    }
   ],
   "source": [
    "print('A quick reality check on salaries, the minimum annual salary in the data set is {:.2f} whilst the maximum is {:.2f}, this is equal to a difference of {:.3f}.'.format(ldf_data['Annual Salary'].min(), ldf_data['Annual Salary'].max(), ldf_data['Annual Salary'].max()-ldf_data['Annual Salary'].min()))"
   ]
  },
  {
   "cell_type": "markdown",
   "id": "504cfefb",
   "metadata": {},
   "source": [
    "All in all this means that there is a huge gap between the highest earner and the lowest earner in the dataset. We'll explore this relationship furher later in the EDA."
   ]
  },
  {
   "cell_type": "markdown",
   "id": "cca0a7cd",
   "metadata": {},
   "source": [
    "#### Taking a look at bank balances"
   ]
  },
  {
   "cell_type": "markdown",
   "id": "f70f88cd",
   "metadata": {},
   "source": [
    "#### Taking a look at savings"
   ]
  },
  {
   "cell_type": "markdown",
   "id": "ca9b7d73",
   "metadata": {},
   "source": [
    "Lastly in this quick glance, we'll quickly take a look at the distributions of our three continous predictors."
   ]
  },
  {
   "cell_type": "code",
   "execution_count": 96,
   "id": "9a54d47a",
   "metadata": {
    "scrolled": true
   },
   "outputs": [
    {
     "data": {
      "text/plain": [
       "<AxesSubplot:xlabel='income_balance_ratio', ylabel='Count'>"
      ]
     },
     "execution_count": 96,
     "metadata": {},
     "output_type": "execute_result"
    },
    {
     "data": {
      "image/png": "[encoded data removed]",
      "text/plain": [
       "<Figure size 1440x360 with 3 Axes>"
      ]
     },
     "metadata": {
      "needs_background": "light"
     },
     "output_type": "display_data"
    }
   ],
   "source": [
    "ldf_savings_percentile = ldf_data[ldf_data['income_balance_ratio'] < ldf_data['income_balance_ratio'].quantile(0.999)]\n",
    "# Creating distributions over the two continous variables\n",
    "f, ax1 = plt.subplots(1,3, figsize=(20,5))\n",
    "sns.histplot(ax=ax1[0], x=ldf_data['Bank Balance'], color='blue', kde=True)\n",
    "sns.histplot(ax=ax1[1],x=ldf_data['Annual Salary'], color='green', kde=True)\n",
    "sns.histplot(ax=ax1[2],x=ldf_savings_percentile['income_balance_ratio'], color='red', kde=True)"
   ]
  },
  {
   "cell_type": "markdown",
   "id": "6be8fed3",
   "metadata": {},
   "source": [
    "From this visualisation we gather that whilst bank balance is somewhat normally distributed (excluding A LOT of 0's), Annual salary doesnt seem to be. The percentage of income sabed, seems to b somewhat normally distributed, however as with bank balance this is naturally excluding a lot of 0's. Again this will be something to look out for in further analysis."
   ]
  },
  {
   "cell_type": "markdown",
   "id": "f4fa0c8f",
   "metadata": {},
   "source": [
    "### Creating a test set\n",
    "Before we go any further its worth creating a test set. This is due to the fact that the human brain is amazing at quickly spotting patterns, which unfortunately makes it vary prone to overfitting models ;). So in order to avoid this (or atleast be able to somewhat control for it), i create a test set before going any further."
   ]
  },
  {
   "cell_type": "code",
   "execution_count": 37,
   "id": "0cc99c2c",
   "metadata": {},
   "outputs": [],
   "source": [
    "from sklearn.model_selection import train_test_split\n",
    "train_set, test_set = train_test_split(ldf_data, test_size=0.2, random_state=1)"
   ]
  },
  {
   "cell_type": "markdown",
   "id": "c6ff44eb",
   "metadata": {},
   "source": [
    "## Exploring distributions more closely"
   ]
  },
  {
   "cell_type": "markdown",
   "id": "6d82c33a",
   "metadata": {},
   "source": [
    "## Exploring the binary and categorical predictors"
   ]
  },
  {
   "cell_type": "markdown",
   "id": "92926c12",
   "metadata": {},
   "source": [
    "## Exploring correlations "
   ]
  },
  {
   "cell_type": "markdown",
   "id": "4b835258",
   "metadata": {},
   "source": [
    "## Exp"
   ]
  },
  {
   "cell_type": "code",
   "execution_count": null,
   "id": "5a0e055b",
   "metadata": {},
   "outputs": [],
   "source": []
  }
 ],
 "metadata": {
  "kernelspec": {
   "display_name": "Python 3",
   "language": "python",
   "name": "python3"
  },
  "language_info": {
   "codemirror_mode": {
    "name": "ipython",
    "version": 3
   },
   "file_extension": ".py",
   "mimetype": "text/x-python",
   "name": "python",
   "nbconvert_exporter": "python",
   "pygments_lexer": "ipython3",
   "version": "3.8.8"
  }
 },
 "nbformat": 4,
 "nbformat_minor": 5
}
